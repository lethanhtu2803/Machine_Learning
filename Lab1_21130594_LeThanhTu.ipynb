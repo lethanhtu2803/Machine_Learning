{
  "nbformat": 4,
  "nbformat_minor": 0,
  "metadata": {
    "colab": {
      "provenance": [],
      "authorship_tag": "ABX9TyMZbDzy9txowiDuBU264Xt9",
      "include_colab_link": true
    },
    "kernelspec": {
      "name": "python3",
      "display_name": "Python 3"
    },
    "language_info": {
      "name": "python"
    }
  },
  "cells": [
    {
      "cell_type": "markdown",
      "metadata": {
        "id": "view-in-github",
        "colab_type": "text"
      },
      "source": [
        "<a href=\"https://colab.research.google.com/github/lethanhtu2803/Machine_Learning/blob/main/Lab1_21130594_LeThanhTu.ipynb\" target=\"_parent\"><img src=\"https://colab.research.google.com/assets/colab-badge.svg\" alt=\"Open In Colab\"/></a>"
      ]
    },
    {
      "cell_type": "code",
      "execution_count": 13,
      "metadata": {
        "colab": {
          "base_uri": "https://localhost:8080/"
        },
        "id": "XBs1NS6Y0dES",
        "outputId": "8d9279f0-a92b-4063-c384-54722f5885c1"
      },
      "outputs": [
        {
          "output_type": "stream",
          "name": "stdout",
          "text": [
            "Nhap chieu dai danh sach: 3\n",
            "Nhap so: -3\n",
            "Nhap so: 6\n",
            "Nhap so: 9\n",
            "[-3, 6, 9]\n"
          ]
        }
      ],
      "source": [
        "# – Input an integer number n.\n",
        "# - Input n integer numbers x1, x2,..., xn and append them into a list L\n",
        "n = int (input(\"Nhap chieu dai danh sach: \"))\n",
        "L = []\n",
        "i = 0\n",
        "while i < n:\n",
        "  item = (input(\"Nhap so: \"))\n",
        "  L.append(int(item))\n",
        "  i+=1\n",
        "\n",
        "print(L)\n"
      ]
    },
    {
      "cell_type": "code",
      "source": [
        "# - Find the max element in L.\n",
        "print(\"Gia tri lon nhat la: \",max(L))\n",
        "# - Find the min element in L.\n",
        "print(\"Gia tri nho nhat la: \",min(L))\n",
        "# - Compute the sum of elements in L.\n",
        "print(\"Tong: \",sum(L))\n"
      ],
      "metadata": {
        "colab": {
          "base_uri": "https://localhost:8080/"
        },
        "id": "72hIag1yCxnb",
        "outputId": "b57bf302-60d0-4e0f-9d51-96d804ea1169"
      },
      "execution_count": 14,
      "outputs": [
        {
          "output_type": "stream",
          "name": "stdout",
          "text": [
            "Gia tri lon nhat la:  9\n",
            "Gia tri nho nhat la:  -3\n",
            "Tong:  12\n"
          ]
        }
      ]
    },
    {
      "cell_type": "code",
      "source": [
        "#  – Sort the list L in ascending order.\n",
        "L.sort()\n",
        "print(\"Mang L sap xep tang dan: \", L)"
      ],
      "metadata": {
        "colab": {
          "base_uri": "https://localhost:8080/"
        },
        "id": "sUgMhB30EW-8",
        "outputId": "c601c5f5-82c0-47c6-9111-ac992773220c"
      },
      "execution_count": 15,
      "outputs": [
        {
          "output_type": "stream",
          "name": "stdout",
          "text": [
            "Mang L sap xep tang dan:  [-3, 6, 9]\n"
          ]
        }
      ]
    },
    {
      "cell_type": "code",
      "source": [
        "from typing import Counter\n",
        "for x in L:\n",
        "  i = 0\n",
        "  soduong = lambda a: a > 0\n",
        "  count = []\n",
        "  count.append(soduong(x))\n",
        "  print(soduong(x) == True and (1) or (0))"
      ],
      "metadata": {
        "colab": {
          "base_uri": "https://localhost:8080/"
        },
        "id": "CHuq3soeE8oU",
        "outputId": "84100707-75e0-436b-f8d0-39f5ff91aa0b"
      },
      "execution_count": 24,
      "outputs": [
        {
          "output_type": "stream",
          "name": "stdout",
          "text": [
            "0\n",
            "1\n",
            "1\n"
          ]
        }
      ]
    }
  ]
}