{
  "nbformat": 4,
  "nbformat_minor": 0,
  "metadata": {
    "colab": {
      "provenance": [],
      "authorship_tag": "ABX9TyP3AoxFVMBgIFbB9Ctp6lXE",
      "include_colab_link": true
    },
    "kernelspec": {
      "name": "python3",
      "display_name": "Python 3"
    },
    "language_info": {
      "name": "python"
    }
  },
  "cells": [
    {
      "cell_type": "markdown",
      "metadata": {
        "id": "view-in-github",
        "colab_type": "text"
      },
      "source": [
        "<a href=\"https://colab.research.google.com/github/lethanhtu2803/Machine_Learning/blob/main/bbbb.ipynb\" target=\"_parent\"><img src=\"https://colab.research.google.com/assets/colab-badge.svg\" alt=\"Open In Colab\"/></a>"
      ]
    },
    {
      "cell_type": "code",
      "execution_count": 16,
      "metadata": {
        "colab": {
          "base_uri": "https://localhost:8080/"
        },
        "id": "XBs1NS6Y0dES",
        "outputId": "dccc7884-df87-4d0f-9dd0-552fcbaf72d3"
      },
      "outputs": [
        {
          "output_type": "stream",
          "name": "stdout",
          "text": [
            "mang cua toi la [3, 7, -3, 5]\n",
            "3\n",
            "7\n",
            "-3\n",
            "5\n",
            "gia tri lon nhat la:  7\n",
            "gia tri nho nhat la:  -3\n"
          ]
        }
      ],
      "source": [
        "\n",
        "a = 5\n",
        "max = 0\n",
        "min = 0\n",
        "\n",
        "def print1(*arr):\n",
        "  for x in myList:\n",
        "    print(x)\n",
        "\n",
        "myList = [3, 7, -3]\n",
        "myList.append(a)\n",
        "print(\"mang cua toi la\", myList)\n",
        "for x in myList:\n",
        "  if x > max :\n",
        "    max = x\n",
        "  if(x < min):\n",
        "    min = x\n",
        "print1(myList)\n",
        "print(\"gia tri lon nhat la: \", max)\n",
        "print(\"gia tri nho nhat la: \", min)\n",
        "\n"
      ]
    }
  ]
}